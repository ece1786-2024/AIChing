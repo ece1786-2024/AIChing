{
 "cells": [
  {
   "cell_type": "code",
   "execution_count": 5,
   "metadata": {},
   "outputs": [],
   "source": [
    "import requests\n",
    "from bs4 import BeautifulSoup\n",
    "\n",
    "def translate_tag(source):\n",
    "\n",
    "    if \"原文\" in source or \"爻辞\" in source:\n",
    "        return \"description\"\n",
    "    if source == \"白话文解释\":\n",
    "        return \"interpretation\"\n",
    "    if source == \"北宋易学家邵雍解\" or source == \"台湾国学大儒傅佩荣解\":\n",
    "        return \"scholar_interpretation\"\n",
    "    if source == \"《断易天机》解\":\n",
    "        return \"book_DuanYi\"\n",
    "    if source == \"传统解卦\":\n",
    "        return \"traditional\"\n",
    "    if \"哲学含义\" in source:\n",
    "        return \"philosophy\"\n",
    "    if \"变卦\" in source:\n",
    "        return None\n",
    "    return source\n",
    "\n",
    "def parse_gua(url):\n",
    "    response = requests.get(url)\n",
    "    response.encoding = 'utf-8'  # 设置编码\n",
    "    html_content = response.text\n",
    "\n",
    "    # 解析HTML\n",
    "    soup = BeautifulSoup(html_content, 'html.parser')\n",
    "    # 提取卦的总体解\n",
    "\n",
    "    gua_id = soup.title.string.split('_')[0].replace(\"周易第\", \"\").replace(\"卦\", \"\")\n",
    "    gua_wp = soup.find('div', class_='gua_wp')\n",
    "    guatts = gua_wp.find_all('div', class_='guatt')\n",
    "    gua_lss = gua_wp.find_all('div', class_='gualist')\n",
    "    dic = {}\n",
    "    line_counter = 0\n",
    "\n",
    "    for guatt, gua_ls in zip(guatts, gua_lss):\n",
    "        result = {}\n",
    "        # 查找所有的 <strong> 标签\n",
    "        strong_tags = gua_ls.find_all('strong')\n",
    "        # 遍历每个 <strong> 标签\n",
    "        for idx, strong_tag in enumerate(strong_tags):\n",
    "            # 提取键（去除多余的空白字符）\n",
    "            key = translate_tag(strong_tag.get_text(strip=True))\n",
    "            if key is None:\n",
    "                continue\n",
    "\n",
    "            value_parts = []\n",
    "            if key in result:\n",
    "                value_parts.append(result[key])\n",
    "            # 遍历当前 <strong> 标签之后的所有兄弟节点\n",
    "            for sibling in strong_tag.next_siblings:\n",
    "                # 如果遇到下一个 <strong> 标签，停止收集\n",
    "                if sibling.name == 'strong':\n",
    "                    break\n",
    "                else:\n",
    "                    # 如果是标签，获取其文本内容\n",
    "                    if hasattr(sibling, 'get_text'):\n",
    "                        text = sibling.get_text(strip=True)\n",
    "                        if text:\n",
    "                            value_parts.append(text)\n",
    "                    # 如果是字符串，直接添加\n",
    "                    elif isinstance(sibling, str):\n",
    "                        text = sibling.strip()\n",
    "                        if text:\n",
    "                            value_parts.append(text)\n",
    "            # 合并收集到的文本作为值\n",
    "            value = '\\n'.join(value_parts)\n",
    "            result[key] = value\n",
    "        if line_counter == 0:\n",
    "            section_key = \"general\"\n",
    "        else:    \n",
    "            section_key = f\"line_{line_counter}\"\n",
    "        dic[section_key] = result\n",
    "        line_counter += 1\n",
    "    return gua_id, dic\n",
    "\n"
   ]
  },
  {
   "cell_type": "code",
   "execution_count": 2,
   "metadata": {},
   "outputs": [
    {
     "name": "stdout",
     "output_type": "stream",
     "text": [
      "{'/zhouyi/yijing64/4127.html', '/zhouyi/yijing64/4168.html', '/zhouyi/yijing64/4183.html', '/zhouyi/yijing64/4190.html', '/zhouyi/yijing64/4170.html', '/zhouyi/yijing64/4153.html', '/zhouyi/yijing64/4182.html', '/zhouyi/yijing64/4184.html', '/zhouyi/yijing64/4113.html', '/zhouyi/yijing64/4110.html', '/zhouyi/yijing64/4197.html', '/zhouyi/yijing64/4149.html', '/zhouyi/yijing64/4188.html', '/zhouyi/yijing64/4109.html', '/zhouyi/yijing64/4141.html', '/zhouyi/yijing64/4194.html', '/zhouyi/yijing64/4179.html', '/zhouyi/yijing64/4145.html', '/zhouyi/yijing64/4189.html', '/zhouyi/yijing64/4148.html', '/zhouyi/yijing64/4186.html', '/zhouyi/yijing64/4193.html', '/zhouyi/yijing64/4173.html', '/zhouyi/yijing64/4164.html', '/zhouyi/yijing64/4174.html', '/zhouyi/yijing64/4167.html', '/zhouyi/yijing64/4180.html', '/zhouyi/yijing64/4143.html', '/zhouyi/yijing64/4103.html', '/zhouyi/yijing64/4255.html', '/zhouyi/yijing64/4140.html', '/zhouyi/yijing64/4144.html', '/zhouyi/yijing64/4106.html', '/zhouyi/yijing64/4256.html', '/zhouyi/yijing64/4107.html', '/zhouyi/yijing64/4126.html', '/zhouyi/yijing64/4108.html', '/zhouyi/yijing64/4176.html', '/zhouyi/yijing64/4192.html', '/zhouyi/yijing64/4212.html', '/zhouyi/yijing64/4177.html', '/zhouyi/yijing64/4185.html', '/zhouyi/yijing64/4169.html', '/zhouyi/yijing64/4175.html', '/zhouyi/yijing64/4171.html', '/zhouyi/yijing64/4150.html', '/zhouyi/yijing64/4172.html', '/zhouyi/yijing64/4196.html', '/zhouyi/yijing64/4200.html', '/zhouyi/yijing64/4198.html', '/zhouyi/yijing64/4257.html', '/zhouyi/yijing64/4105.html', '/zhouyi/yijing64/4152.html', '/zhouyi/yijing64/4159.html', '/zhouyi/yijing64/4112.html', '/zhouyi/yijing64/4244.html', '/zhouyi/yijing64/4146.html', '/zhouyi/yijing64/4187.html', '/zhouyi/yijing64/4142.html', '/zhouyi/yijing64/4111.html', '/zhouyi/yijing64/4263.html', '/zhouyi/yijing64/4147.html', '/zhouyi/yijing64/4181.html', '/zhouyi/yijing64/4195.html'}\n"
     ]
    }
   ],
   "source": [
    "url_parent = \"https://www.zhouyi.cc/zhouyi/yijing64/\"\n",
    "response = requests.get(url_parent)\n",
    "response.encoding = 'utf-8'  # 设置编码\n",
    "soup = BeautifulSoup(response.text, 'html.parser')\n",
    "links = soup.find_all('a')\n",
    "urls = set()\n",
    "for link in links:\n",
    "    url = link.get('href')\n",
    "    if url and url.startswith(\"/zhouyi/yijing64/\") and url.endswith(\".html\"):\n",
    "        urls.add(url)\n",
    "print(urls)"
   ]
  },
  {
   "cell_type": "code",
   "execution_count": 3,
   "metadata": {},
   "outputs": [
    {
     "name": "stderr",
     "output_type": "stream",
     "text": [
      "c:\\Users\\levscaut\\miniconda3\\Lib\\site-packages\\tqdm\\auto.py:21: TqdmWarning: IProgress not found. Please update jupyter and ipywidgets. See https://ipywidgets.readthedocs.io/en/stable/user_install.html\n",
      "  from .autonotebook import tqdm as notebook_tqdm\n"
     ]
    },
    {
     "name": "stderr",
     "output_type": "stream",
     "text": [
      " 14%|█▍        | 9/64 [00:09<01:00,  1.11s/it]"
     ]
    },
    {
     "name": "stdout",
     "output_type": "stream",
     "text": [
      "Error when parsing /zhouyi/yijing64/4113.html: Unknown source: 第十卦\n"
     ]
    },
    {
     "name": "stderr",
     "output_type": "stream",
     "text": [
      " 45%|████▌     | 29/64 [00:28<00:32,  1.07it/s]"
     ]
    },
    {
     "name": "stdout",
     "output_type": "stream",
     "text": [
      "Error when parsing /zhouyi/yijing64/4103.html: Unknown source: 乾卦所包含的范围是：\n"
     ]
    },
    {
     "name": "stderr",
     "output_type": "stream",
     "text": [
      "100%|██████████| 64/64 [01:01<00:00,  1.04it/s]\n"
     ]
    }
   ],
   "source": [
    "urls = list(urls)\n",
    "from tqdm.auto import tqdm\n",
    "import json\n",
    "all_gua = {}\n",
    "for url in tqdm(urls):\n",
    "    try:\n",
    "        gua_id, gua_content = parse_gua(f\"https://www.zhouyi.cc{url}\")\n",
    "        all_gua[gua_id] = gua_content\n",
    "        with open(\"yijing.json\", \"w\") as f:\n",
    "            json.dump(all_gua, f, ensure_ascii=False, indent=2)\n",
    "    except Exception as e:\n",
    "        print(f\"Error when parsing {url}: {e}\")\n",
    "        continue"
   ]
  },
  {
   "cell_type": "code",
   "execution_count": 11,
   "metadata": {},
   "outputs": [],
   "source": [
    "gua_id, gua_content = parse_gua(f\"https://www.zhouyi.cc/zhouyi/yijing64/4113.html\")\n",
    "all_gua[gua_id] = gua_content"
   ]
  },
  {
   "cell_type": "code",
   "execution_count": 12,
   "metadata": {},
   "outputs": [],
   "source": [
    "with open(\"yijing.json\", \"w\") as f:\n",
    "    json.dump(all_gua, f, ensure_ascii=False, indent=2)"
   ]
  }
 ],
 "metadata": {
  "kernelspec": {
   "display_name": "base",
   "language": "python",
   "name": "python3"
  },
  "language_info": {
   "codemirror_mode": {
    "name": "ipython",
    "version": 3
   },
   "file_extension": ".py",
   "mimetype": "text/x-python",
   "name": "python",
   "nbconvert_exporter": "python",
   "pygments_lexer": "ipython3",
   "version": "3.12.3"
  }
 },
 "nbformat": 4,
 "nbformat_minor": 2
}
